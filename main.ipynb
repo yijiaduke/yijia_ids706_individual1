{
 "cells": [
  {
   "cell_type": "markdown",
   "metadata": {},
   "source": [
    "# Descriptive Statistics with Pandas\n",
    "\n",
    "This notebook demonstrates how to perform descriptive statistics using Pandas on a weather dataset. We will explore the data, calculate summary statistics, and visualize the distributions of key variables.\n"
   ]
  },
  {
   "cell_type": "code",
   "execution_count": null,
   "metadata": {},
   "outputs": [],
   "source": [
    "# Import necessary libraries\n",
    "import pandas as pd\n",
    "import matplotlib.pyplot as plt\n",
    "from mylib.lib import load_dataset, calculate_statistics, create_histogram\n",
    "\n",
    "# Define the path to the data file\n",
    "file_path = \"rdu-weather-history.csv\"\n",
    "\n",
    "# Load the data using the provided function\n",
    "data = load_dataset(file_path)\n",
    "\n",
    "# Display the first few rows of the data\n",
    "data.head()\n"
   ]
  },
  {
   "cell_type": "code",
   "execution_count": null,
   "metadata": {},
   "outputs": [],
   "source": [
    "# Calculate descriptive statistics using the provided function\n",
    "desc_stats = calculate_statistics(data)\n",
    "desc_stats\n"
   ]
  },
  {
   "cell_type": "markdown",
   "metadata": {},
   "source": [
    "# Create and display a histogram for 'Temperature Maximum'\n",
    "create_histogram(data, 'Temperature Maximum', 'temperature_maximum_distribution.png')\n",
    "\n",
    "# Display the histogram inline\n",
    "plt.figure(figsize=(10, 5))\n",
    "plt.hist(data['Temperature Maximum'], bins=20, color='skyblue', edgecolor='black')\n",
    "plt.title('Distribution of Temperature Maximum')\n",
    "plt.xlabel('Temperature Maximum')\n",
    "plt.ylabel('Frequency')\n",
    "plt.grid(True)\n",
    "plt.show()\n"
   ]
  },
  {
   "cell_type": "markdown",
   "metadata": {},
   "source": [
    "wer"
   ]
  },
  {
   "cell_type": "markdown",
   "metadata": {},
   "source": [
    "wer"
   ]
  }
 ],
 "metadata": {
  "language_info": {
   "name": "python"
  }
 },
 "nbformat": 4,
 "nbformat_minor": 2
}
